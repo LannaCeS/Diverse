{
 "cells": [
  {
   "cell_type": "markdown",
   "metadata": {},
   "source": [
    "Projeto 2 - C209 - L6 \n",
    "Lanna Correia e Silva"
   ]
  },
  {
   "cell_type": "markdown",
   "metadata": {},
   "source": [
    "* Inserção de bibliotecas"
   ]
  },
  {
   "cell_type": "code",
   "execution_count": null,
   "metadata": {},
   "outputs": [],
   "source": [
    "import moviepy.editor as mpe\n",
    "import numpy as np\n",
    "import matplotlib.pyplot as plt"
   ]
  },
  {
   "cell_type": "markdown",
   "metadata": {},
   "source": [
    "* Importação do vídeo"
   ]
  },
  {
   "cell_type": "code",
   "execution_count": null,
   "metadata": {},
   "outputs": [],
   "source": [
    "video = mpe.VideoFileClip(r\"C:\\Users\\lanna\\VScode\\Projeto2-MM-Lanna.mp4\")\n",
    "video.ipython_display(width=480, maxduration=5000)"
   ]
  },
  {
   "cell_type": "markdown",
   "metadata": {},
   "source": [
    "* Inverter a imagem do vídeo a cada 20s -> eixo escolhido: x"
   ]
  },
  {
   "cell_type": "code",
   "execution_count": null,
   "metadata": {},
   "outputs": [],
   "source": [
    "#dividir o vídeo em partes de 20s\n",
    "part1_1 = video.subclip(0, 20) # 0 a 20 segundos\n",
    "part2_1 = video.subclip(20, 40) # 20 a 40 segundos\n",
    "part3_1 = video.subclip(40, 60) # 40 a 60 segundos\n",
    "part4_1 = video.subclip(60, 80) # 60 a 80 segundos\n",
    "part5_1 = video.subclip(80, 100) # 80 a 100 segundos\n",
    "part6_1 = video.subclip(100, 120) # 100 a 120 segundos\n",
    "part7_1 = video.subclip(120, 140) # 120 a 140 segundos\n",
    "part8_1 = video.subclip(140) # 140 ao fim (= 141s)\n",
    "\n",
    "#inverter todas as partes pares\n",
    "def invert_x(frame):\n",
    "    (l,c,p) = frame.shape\n",
    "    new_frame = np.zeros(shape=frame.shape, dtype=np.uint8)\n",
    "    for i in range(l):\n",
    "        for j in range(c):\n",
    "            new_x = j\n",
    "            new_y = -i\n",
    "            new_frame[new_y, new_x] = frame[i, j] \n",
    "    return (new_frame)\n",
    "\n",
    "part2_1_inverted = part2_1.fl_image(invert_x)\n",
    "part4_1_inverted = part4_1.fl_image(invert_x)\n",
    "part6_1_inverted = part6_1.fl_image(invert_x)\n",
    "part8_1_inverted = part8_1.fl_image(invert_x)\n",
    "\n",
    "#concatená-las\n",
    "video_inverted_x = mpe.concatenate_videoclips([part1_1, part2_1_inverted, part3_1, part4_1_inverted, part5_1, part6_1_inverted, part7_1, part8_1_inverted])\n",
    "\n",
    "video_inverted_x.ipython_display(width = 480, maxduration=5000)"
   ]
  },
  {
   "cell_type": "markdown",
   "metadata": {},
   "source": [
    "* Diminuir o som gradativamente a cada 30 segundos, últimos 10s em silêncio"
   ]
  },
  {
   "cell_type": "markdown",
   "metadata": {},
   "source": [
    "141 segundos totais - 10 segundos de silêncio = 131 segundos de redução gradativa do volume do áudio até zerar"
   ]
  },
  {
   "cell_type": "markdown",
   "metadata": {},
   "source": [
    "Até 30s -> 100%; 30s - 60s; 60s-90s; 90s-120s; 120s-131s (menos de 30s -> esse intervalo já terá de ser mudo para manter a regra de alteração de 30 em 30)\n",
    "[(131 - 30) - 11]s/30s = 3 reduções de volume de áudio -> retirada dos 30s iniciais e dos 11 finais              \n",
    "100%/4 = redução aproximada de 25% no volume a cada intervalo\n",
    "\n",
    "Até 30s -> 100%; 30s - 60s -> 75%; 60s-90s -> 50%; 90s-120s -> 25%; 120s-131s -> 0%"
   ]
  },
  {
   "cell_type": "code",
   "execution_count": null,
   "metadata": {},
   "outputs": [],
   "source": [
    "def decrease(audio, t):\n",
    "    frame = audio(t)\n",
    "\n",
    "    reduction = np.ones_like(t)  # Inicializa o fator com 1.0 (100% do volume)\n",
    "\n",
    "    # Aplica os fatores de redução com base em intervalos\n",
    "    reduction[t >= 30] = 0.75  # 75% para t >= 30\n",
    "    reduction[t >= 60] = 0.5   # 50% para t >= 60\n",
    "    reduction[t >= 90] = 0.25  # 25% para t >= 90\n",
    "    reduction[t >= 120] = 0.0  # 0% para t >= 120\n",
    "\n",
    "    frame[:, 0] *= reduction\n",
    "    frame[:, 1] *= reduction\n",
    "    \n",
    "    return frame\n",
    "\n",
    "audio_decrease = video_inverted_x.audio.fl(decrease)\n",
    "video_audio_decrease = video_inverted_x.set_audio(audio_decrease)\n",
    "video_audio_decrease.ipython_display(width=480, maxduration = 5000)"
   ]
  },
  {
   "cell_type": "markdown",
   "metadata": {},
   "source": [
    "* Corte aos 60s -> 80s"
   ]
  },
  {
   "cell_type": "markdown",
   "metadata": {},
   "source": [
    "° separar o vídeo em três partes: (0-60)s, (60-80)s, (80-fim)s                                                                                              \n",
    "° unir o primeiro e último trecho"
   ]
  },
  {
   "cell_type": "code",
   "execution_count": null,
   "metadata": {},
   "outputs": [],
   "source": [
    "part1 = video_audio_decrease.subclip(0, 60) # 0 a 60 segundos\n",
    "part1.ipython_display(width=480, maxduration = 500)\n",
    "part2 = video_audio_decrease.subclip(60,80) #do segundo 60 ao 80\n",
    "part2.ipython_display(width = 480, maxduration = 500)\n",
    "part3 = video_audio_decrease.subclip(80) #do segundo 80 ao fim"
   ]
  },
  {
   "cell_type": "code",
   "execution_count": null,
   "metadata": {},
   "outputs": [],
   "source": [
    "almost_all_parts = mpe.concatenate_videoclips([part1, part3])\n",
    "almost_all_parts.ipython_display(width=480, maxduration = 5000)"
   ]
  },
  {
   "cell_type": "markdown",
   "metadata": {},
   "source": [
    "* Inserir o trecho de 61-79 ao final do vídeo"
   ]
  },
  {
   "cell_type": "code",
   "execution_count": null,
   "metadata": {},
   "outputs": [],
   "source": [
    "video_final = mpe.concatenate_videoclips([almost_all_parts, part2])\n",
    "video_final.ipython_display(width=480, maxduration = 5000)"
   ]
  },
  {
   "cell_type": "markdown",
   "metadata": {},
   "source": [
    "* Salvando o resultado final"
   ]
  },
  {
   "cell_type": "code",
   "execution_count": null,
   "metadata": {},
   "outputs": [],
   "source": [
    "video_final.write_videofile('projeto2_final_Lanna.mp4')"
   ]
  }
 ],
 "metadata": {
  "kernelspec": {
   "display_name": "myenv",
   "language": "python",
   "name": "python3"
  },
  "language_info": {
   "codemirror_mode": {
    "name": "ipython",
    "version": 3
   },
   "file_extension": ".py",
   "mimetype": "text/x-python",
   "name": "python",
   "nbconvert_exporter": "python",
   "pygments_lexer": "ipython3",
   "version": "3.11.2"
  }
 },
 "nbformat": 4,
 "nbformat_minor": 2
}
